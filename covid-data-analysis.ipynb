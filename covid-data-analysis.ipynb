{
 "cells": [
  {
   "cell_type": "code",
   "execution_count": 1,
   "metadata": {
    "execution": {
     "iopub.execute_input": "2020-08-18T14:07:47.736067Z",
     "iopub.status.busy": "2020-08-18T14:07:47.735839Z",
     "iopub.status.idle": "2020-08-18T14:07:49.098051Z",
     "shell.execute_reply": "2020-08-18T14:07:49.097352Z",
     "shell.execute_reply.started": "2020-08-18T14:07:47.736041Z"
    }
   },
   "outputs": [],
   "source": [
    "#imports\n",
    "import pandas as pd\n",
    "import math \n",
    "import matplotlib.pyplot as plt\n",
    "%matplotlib inline\n",
    "import seaborn as sns\n",
    "import plotly.express as px\n",
    "import plotly.graph_objects as go\n",
    "import folium\n",
    "from  folium import plugins\n",
    "from scipy.integrate import odeint\n",
    "#plt.rcParams['figure.figsize'] = 10, 12\n",
    "import warnings\n",
    "warnings.filterwarnings('ignore')"
   ]
  },
  {
   "cell_type": "code",
   "execution_count": 2,
   "metadata": {
    "execution": {
     "iopub.execute_input": "2020-08-18T14:07:49.099394Z",
     "iopub.status.busy": "2020-08-18T14:07:49.099159Z",
     "iopub.status.idle": "2020-08-18T14:07:49.393085Z",
     "shell.execute_reply": "2020-08-18T14:07:49.392121Z",
     "shell.execute_reply.started": "2020-08-18T14:07:49.099367Z"
    }
   },
   "outputs": [
    {
     "data": {
      "text/html": [
       "<div>\n",
       "<style scoped>\n",
       "    .dataframe tbody tr th:only-of-type {\n",
       "        vertical-align: middle;\n",
       "    }\n",
       "\n",
       "    .dataframe tbody tr th {\n",
       "        vertical-align: top;\n",
       "    }\n",
       "\n",
       "    .dataframe thead th {\n",
       "        text-align: right;\n",
       "    }\n",
       "</style>\n",
       "<table border=\"1\" class=\"dataframe\">\n",
       "  <thead>\n",
       "    <tr style=\"text-align: right;\">\n",
       "      <th></th>\n",
       "      <th>iso_code</th>\n",
       "      <th>continent</th>\n",
       "      <th>location</th>\n",
       "      <th>date</th>\n",
       "      <th>total_cases</th>\n",
       "      <th>new_cases</th>\n",
       "      <th>new_cases_smoothed</th>\n",
       "      <th>total_deaths</th>\n",
       "      <th>new_deaths</th>\n",
       "      <th>new_deaths_smoothed</th>\n",
       "      <th>...</th>\n",
       "      <th>aged_70_older</th>\n",
       "      <th>gdp_per_capita</th>\n",
       "      <th>extreme_poverty</th>\n",
       "      <th>cardiovasc_death_rate</th>\n",
       "      <th>diabetes_prevalence</th>\n",
       "      <th>female_smokers</th>\n",
       "      <th>male_smokers</th>\n",
       "      <th>handwashing_facilities</th>\n",
       "      <th>hospital_beds_per_thousand</th>\n",
       "      <th>life_expectancy</th>\n",
       "    </tr>\n",
       "  </thead>\n",
       "  <tbody>\n",
       "    <tr>\n",
       "      <th>0</th>\n",
       "      <td>ABW</td>\n",
       "      <td>North America</td>\n",
       "      <td>Aruba</td>\n",
       "      <td>2020-03-13</td>\n",
       "      <td>2.0</td>\n",
       "      <td>2.0</td>\n",
       "      <td>NaN</td>\n",
       "      <td>0.0</td>\n",
       "      <td>0.0</td>\n",
       "      <td>NaN</td>\n",
       "      <td>...</td>\n",
       "      <td>7.452</td>\n",
       "      <td>35973.781</td>\n",
       "      <td>NaN</td>\n",
       "      <td>NaN</td>\n",
       "      <td>11.62</td>\n",
       "      <td>NaN</td>\n",
       "      <td>NaN</td>\n",
       "      <td>NaN</td>\n",
       "      <td>NaN</td>\n",
       "      <td>76.29</td>\n",
       "    </tr>\n",
       "    <tr>\n",
       "      <th>1</th>\n",
       "      <td>ABW</td>\n",
       "      <td>North America</td>\n",
       "      <td>Aruba</td>\n",
       "      <td>2020-03-19</td>\n",
       "      <td>NaN</td>\n",
       "      <td>NaN</td>\n",
       "      <td>0.286</td>\n",
       "      <td>NaN</td>\n",
       "      <td>NaN</td>\n",
       "      <td>0.0</td>\n",
       "      <td>...</td>\n",
       "      <td>7.452</td>\n",
       "      <td>35973.781</td>\n",
       "      <td>NaN</td>\n",
       "      <td>NaN</td>\n",
       "      <td>11.62</td>\n",
       "      <td>NaN</td>\n",
       "      <td>NaN</td>\n",
       "      <td>NaN</td>\n",
       "      <td>NaN</td>\n",
       "      <td>76.29</td>\n",
       "    </tr>\n",
       "    <tr>\n",
       "      <th>2</th>\n",
       "      <td>ABW</td>\n",
       "      <td>North America</td>\n",
       "      <td>Aruba</td>\n",
       "      <td>2020-03-20</td>\n",
       "      <td>4.0</td>\n",
       "      <td>2.0</td>\n",
       "      <td>0.286</td>\n",
       "      <td>0.0</td>\n",
       "      <td>0.0</td>\n",
       "      <td>0.0</td>\n",
       "      <td>...</td>\n",
       "      <td>7.452</td>\n",
       "      <td>35973.781</td>\n",
       "      <td>NaN</td>\n",
       "      <td>NaN</td>\n",
       "      <td>11.62</td>\n",
       "      <td>NaN</td>\n",
       "      <td>NaN</td>\n",
       "      <td>NaN</td>\n",
       "      <td>NaN</td>\n",
       "      <td>76.29</td>\n",
       "    </tr>\n",
       "    <tr>\n",
       "      <th>3</th>\n",
       "      <td>ABW</td>\n",
       "      <td>North America</td>\n",
       "      <td>Aruba</td>\n",
       "      <td>2020-03-21</td>\n",
       "      <td>NaN</td>\n",
       "      <td>NaN</td>\n",
       "      <td>0.286</td>\n",
       "      <td>NaN</td>\n",
       "      <td>NaN</td>\n",
       "      <td>0.0</td>\n",
       "      <td>...</td>\n",
       "      <td>7.452</td>\n",
       "      <td>35973.781</td>\n",
       "      <td>NaN</td>\n",
       "      <td>NaN</td>\n",
       "      <td>11.62</td>\n",
       "      <td>NaN</td>\n",
       "      <td>NaN</td>\n",
       "      <td>NaN</td>\n",
       "      <td>NaN</td>\n",
       "      <td>76.29</td>\n",
       "    </tr>\n",
       "    <tr>\n",
       "      <th>4</th>\n",
       "      <td>ABW</td>\n",
       "      <td>North America</td>\n",
       "      <td>Aruba</td>\n",
       "      <td>2020-03-22</td>\n",
       "      <td>NaN</td>\n",
       "      <td>NaN</td>\n",
       "      <td>0.286</td>\n",
       "      <td>NaN</td>\n",
       "      <td>NaN</td>\n",
       "      <td>0.0</td>\n",
       "      <td>...</td>\n",
       "      <td>7.452</td>\n",
       "      <td>35973.781</td>\n",
       "      <td>NaN</td>\n",
       "      <td>NaN</td>\n",
       "      <td>11.62</td>\n",
       "      <td>NaN</td>\n",
       "      <td>NaN</td>\n",
       "      <td>NaN</td>\n",
       "      <td>NaN</td>\n",
       "      <td>76.29</td>\n",
       "    </tr>\n",
       "  </tbody>\n",
       "</table>\n",
       "<p>5 rows × 40 columns</p>\n",
       "</div>"
      ],
      "text/plain": [
       "  iso_code      continent location        date  total_cases  new_cases  \\\n",
       "0      ABW  North America    Aruba  2020-03-13          2.0        2.0   \n",
       "1      ABW  North America    Aruba  2020-03-19          NaN        NaN   \n",
       "2      ABW  North America    Aruba  2020-03-20          4.0        2.0   \n",
       "3      ABW  North America    Aruba  2020-03-21          NaN        NaN   \n",
       "4      ABW  North America    Aruba  2020-03-22          NaN        NaN   \n",
       "\n",
       "   new_cases_smoothed  total_deaths  new_deaths  new_deaths_smoothed  ...  \\\n",
       "0                 NaN           0.0         0.0                  NaN  ...   \n",
       "1               0.286           NaN         NaN                  0.0  ...   \n",
       "2               0.286           0.0         0.0                  0.0  ...   \n",
       "3               0.286           NaN         NaN                  0.0  ...   \n",
       "4               0.286           NaN         NaN                  0.0  ...   \n",
       "\n",
       "   aged_70_older  gdp_per_capita  extreme_poverty  cardiovasc_death_rate  \\\n",
       "0          7.452       35973.781              NaN                    NaN   \n",
       "1          7.452       35973.781              NaN                    NaN   \n",
       "2          7.452       35973.781              NaN                    NaN   \n",
       "3          7.452       35973.781              NaN                    NaN   \n",
       "4          7.452       35973.781              NaN                    NaN   \n",
       "\n",
       "   diabetes_prevalence  female_smokers  male_smokers  handwashing_facilities  \\\n",
       "0                11.62             NaN           NaN                     NaN   \n",
       "1                11.62             NaN           NaN                     NaN   \n",
       "2                11.62             NaN           NaN                     NaN   \n",
       "3                11.62             NaN           NaN                     NaN   \n",
       "4                11.62             NaN           NaN                     NaN   \n",
       "\n",
       "   hospital_beds_per_thousand  life_expectancy  \n",
       "0                         NaN            76.29  \n",
       "1                         NaN            76.29  \n",
       "2                         NaN            76.29  \n",
       "3                         NaN            76.29  \n",
       "4                         NaN            76.29  \n",
       "\n",
       "[5 rows x 40 columns]"
      ]
     },
     "execution_count": 2,
     "metadata": {},
     "output_type": "execute_result"
    }
   ],
   "source": [
    "#data\n",
    "df = pd.read_csv('https://cainvas-static.s3.amazonaws.com/media/user_data/Varun101Varun/owid-covid-data_1.csv')\n",
    "df.head(5)"
   ]
  },
  {
   "cell_type": "code",
   "execution_count": 3,
   "metadata": {
    "execution": {
     "iopub.execute_input": "2020-08-18T14:07:49.395123Z",
     "iopub.status.busy": "2020-08-18T14:07:49.394864Z",
     "iopub.status.idle": "2020-08-18T14:07:49.434165Z",
     "shell.execute_reply": "2020-08-18T14:07:49.433496Z",
     "shell.execute_reply.started": "2020-08-18T14:07:49.395097Z"
    }
   },
   "outputs": [
    {
     "data": {
      "text/html": [
       "<div>\n",
       "<style scoped>\n",
       "    .dataframe tbody tr th:only-of-type {\n",
       "        vertical-align: middle;\n",
       "    }\n",
       "\n",
       "    .dataframe tbody tr th {\n",
       "        vertical-align: top;\n",
       "    }\n",
       "\n",
       "    .dataframe thead th {\n",
       "        text-align: right;\n",
       "    }\n",
       "</style>\n",
       "<table border=\"1\" class=\"dataframe\">\n",
       "  <thead>\n",
       "    <tr style=\"text-align: right;\">\n",
       "      <th></th>\n",
       "      <th>iso_code</th>\n",
       "      <th>continent</th>\n",
       "      <th>location</th>\n",
       "      <th>date</th>\n",
       "      <th>total_cases</th>\n",
       "      <th>new_cases</th>\n",
       "      <th>new_cases_smoothed</th>\n",
       "      <th>total_deaths</th>\n",
       "      <th>new_deaths</th>\n",
       "      <th>new_deaths_smoothed</th>\n",
       "      <th>...</th>\n",
       "      <th>aged_70_older</th>\n",
       "      <th>gdp_per_capita</th>\n",
       "      <th>extreme_poverty</th>\n",
       "      <th>cardiovasc_death_rate</th>\n",
       "      <th>diabetes_prevalence</th>\n",
       "      <th>female_smokers</th>\n",
       "      <th>male_smokers</th>\n",
       "      <th>handwashing_facilities</th>\n",
       "      <th>hospital_beds_per_thousand</th>\n",
       "      <th>life_expectancy</th>\n",
       "    </tr>\n",
       "  </thead>\n",
       "  <tbody>\n",
       "    <tr>\n",
       "      <th>0</th>\n",
       "      <td>False</td>\n",
       "      <td>False</td>\n",
       "      <td>False</td>\n",
       "      <td>False</td>\n",
       "      <td>False</td>\n",
       "      <td>False</td>\n",
       "      <td>True</td>\n",
       "      <td>False</td>\n",
       "      <td>False</td>\n",
       "      <td>True</td>\n",
       "      <td>...</td>\n",
       "      <td>False</td>\n",
       "      <td>False</td>\n",
       "      <td>True</td>\n",
       "      <td>True</td>\n",
       "      <td>False</td>\n",
       "      <td>True</td>\n",
       "      <td>True</td>\n",
       "      <td>True</td>\n",
       "      <td>True</td>\n",
       "      <td>False</td>\n",
       "    </tr>\n",
       "    <tr>\n",
       "      <th>1</th>\n",
       "      <td>False</td>\n",
       "      <td>False</td>\n",
       "      <td>False</td>\n",
       "      <td>False</td>\n",
       "      <td>True</td>\n",
       "      <td>True</td>\n",
       "      <td>False</td>\n",
       "      <td>True</td>\n",
       "      <td>True</td>\n",
       "      <td>False</td>\n",
       "      <td>...</td>\n",
       "      <td>False</td>\n",
       "      <td>False</td>\n",
       "      <td>True</td>\n",
       "      <td>True</td>\n",
       "      <td>False</td>\n",
       "      <td>True</td>\n",
       "      <td>True</td>\n",
       "      <td>True</td>\n",
       "      <td>True</td>\n",
       "      <td>False</td>\n",
       "    </tr>\n",
       "    <tr>\n",
       "      <th>2</th>\n",
       "      <td>False</td>\n",
       "      <td>False</td>\n",
       "      <td>False</td>\n",
       "      <td>False</td>\n",
       "      <td>False</td>\n",
       "      <td>False</td>\n",
       "      <td>False</td>\n",
       "      <td>False</td>\n",
       "      <td>False</td>\n",
       "      <td>False</td>\n",
       "      <td>...</td>\n",
       "      <td>False</td>\n",
       "      <td>False</td>\n",
       "      <td>True</td>\n",
       "      <td>True</td>\n",
       "      <td>False</td>\n",
       "      <td>True</td>\n",
       "      <td>True</td>\n",
       "      <td>True</td>\n",
       "      <td>True</td>\n",
       "      <td>False</td>\n",
       "    </tr>\n",
       "    <tr>\n",
       "      <th>3</th>\n",
       "      <td>False</td>\n",
       "      <td>False</td>\n",
       "      <td>False</td>\n",
       "      <td>False</td>\n",
       "      <td>True</td>\n",
       "      <td>True</td>\n",
       "      <td>False</td>\n",
       "      <td>True</td>\n",
       "      <td>True</td>\n",
       "      <td>False</td>\n",
       "      <td>...</td>\n",
       "      <td>False</td>\n",
       "      <td>False</td>\n",
       "      <td>True</td>\n",
       "      <td>True</td>\n",
       "      <td>False</td>\n",
       "      <td>True</td>\n",
       "      <td>True</td>\n",
       "      <td>True</td>\n",
       "      <td>True</td>\n",
       "      <td>False</td>\n",
       "    </tr>\n",
       "    <tr>\n",
       "      <th>4</th>\n",
       "      <td>False</td>\n",
       "      <td>False</td>\n",
       "      <td>False</td>\n",
       "      <td>False</td>\n",
       "      <td>True</td>\n",
       "      <td>True</td>\n",
       "      <td>False</td>\n",
       "      <td>True</td>\n",
       "      <td>True</td>\n",
       "      <td>False</td>\n",
       "      <td>...</td>\n",
       "      <td>False</td>\n",
       "      <td>False</td>\n",
       "      <td>True</td>\n",
       "      <td>True</td>\n",
       "      <td>False</td>\n",
       "      <td>True</td>\n",
       "      <td>True</td>\n",
       "      <td>True</td>\n",
       "      <td>True</td>\n",
       "      <td>False</td>\n",
       "    </tr>\n",
       "    <tr>\n",
       "      <th>...</th>\n",
       "      <td>...</td>\n",
       "      <td>...</td>\n",
       "      <td>...</td>\n",
       "      <td>...</td>\n",
       "      <td>...</td>\n",
       "      <td>...</td>\n",
       "      <td>...</td>\n",
       "      <td>...</td>\n",
       "      <td>...</td>\n",
       "      <td>...</td>\n",
       "      <td>...</td>\n",
       "      <td>...</td>\n",
       "      <td>...</td>\n",
       "      <td>...</td>\n",
       "      <td>...</td>\n",
       "      <td>...</td>\n",
       "      <td>...</td>\n",
       "      <td>...</td>\n",
       "      <td>...</td>\n",
       "      <td>...</td>\n",
       "      <td>...</td>\n",
       "    </tr>\n",
       "    <tr>\n",
       "      <th>37623</th>\n",
       "      <td>True</td>\n",
       "      <td>True</td>\n",
       "      <td>False</td>\n",
       "      <td>False</td>\n",
       "      <td>True</td>\n",
       "      <td>True</td>\n",
       "      <td>False</td>\n",
       "      <td>True</td>\n",
       "      <td>True</td>\n",
       "      <td>False</td>\n",
       "      <td>...</td>\n",
       "      <td>True</td>\n",
       "      <td>True</td>\n",
       "      <td>True</td>\n",
       "      <td>True</td>\n",
       "      <td>True</td>\n",
       "      <td>True</td>\n",
       "      <td>True</td>\n",
       "      <td>True</td>\n",
       "      <td>True</td>\n",
       "      <td>True</td>\n",
       "    </tr>\n",
       "    <tr>\n",
       "      <th>37624</th>\n",
       "      <td>True</td>\n",
       "      <td>True</td>\n",
       "      <td>False</td>\n",
       "      <td>False</td>\n",
       "      <td>True</td>\n",
       "      <td>True</td>\n",
       "      <td>False</td>\n",
       "      <td>True</td>\n",
       "      <td>True</td>\n",
       "      <td>False</td>\n",
       "      <td>...</td>\n",
       "      <td>True</td>\n",
       "      <td>True</td>\n",
       "      <td>True</td>\n",
       "      <td>True</td>\n",
       "      <td>True</td>\n",
       "      <td>True</td>\n",
       "      <td>True</td>\n",
       "      <td>True</td>\n",
       "      <td>True</td>\n",
       "      <td>True</td>\n",
       "    </tr>\n",
       "    <tr>\n",
       "      <th>37625</th>\n",
       "      <td>True</td>\n",
       "      <td>True</td>\n",
       "      <td>False</td>\n",
       "      <td>False</td>\n",
       "      <td>True</td>\n",
       "      <td>True</td>\n",
       "      <td>False</td>\n",
       "      <td>True</td>\n",
       "      <td>True</td>\n",
       "      <td>False</td>\n",
       "      <td>...</td>\n",
       "      <td>True</td>\n",
       "      <td>True</td>\n",
       "      <td>True</td>\n",
       "      <td>True</td>\n",
       "      <td>True</td>\n",
       "      <td>True</td>\n",
       "      <td>True</td>\n",
       "      <td>True</td>\n",
       "      <td>True</td>\n",
       "      <td>True</td>\n",
       "    </tr>\n",
       "    <tr>\n",
       "      <th>37626</th>\n",
       "      <td>True</td>\n",
       "      <td>True</td>\n",
       "      <td>False</td>\n",
       "      <td>False</td>\n",
       "      <td>True</td>\n",
       "      <td>True</td>\n",
       "      <td>False</td>\n",
       "      <td>True</td>\n",
       "      <td>True</td>\n",
       "      <td>False</td>\n",
       "      <td>...</td>\n",
       "      <td>True</td>\n",
       "      <td>True</td>\n",
       "      <td>True</td>\n",
       "      <td>True</td>\n",
       "      <td>True</td>\n",
       "      <td>True</td>\n",
       "      <td>True</td>\n",
       "      <td>True</td>\n",
       "      <td>True</td>\n",
       "      <td>True</td>\n",
       "    </tr>\n",
       "    <tr>\n",
       "      <th>37627</th>\n",
       "      <td>True</td>\n",
       "      <td>True</td>\n",
       "      <td>False</td>\n",
       "      <td>False</td>\n",
       "      <td>False</td>\n",
       "      <td>False</td>\n",
       "      <td>False</td>\n",
       "      <td>False</td>\n",
       "      <td>False</td>\n",
       "      <td>False</td>\n",
       "      <td>...</td>\n",
       "      <td>True</td>\n",
       "      <td>True</td>\n",
       "      <td>True</td>\n",
       "      <td>True</td>\n",
       "      <td>True</td>\n",
       "      <td>True</td>\n",
       "      <td>True</td>\n",
       "      <td>True</td>\n",
       "      <td>True</td>\n",
       "      <td>True</td>\n",
       "    </tr>\n",
       "  </tbody>\n",
       "</table>\n",
       "<p>37628 rows × 40 columns</p>\n",
       "</div>"
      ],
      "text/plain": [
       "       iso_code  continent  location   date  total_cases  new_cases  \\\n",
       "0         False      False     False  False        False      False   \n",
       "1         False      False     False  False         True       True   \n",
       "2         False      False     False  False        False      False   \n",
       "3         False      False     False  False         True       True   \n",
       "4         False      False     False  False         True       True   \n",
       "...         ...        ...       ...    ...          ...        ...   \n",
       "37623      True       True     False  False         True       True   \n",
       "37624      True       True     False  False         True       True   \n",
       "37625      True       True     False  False         True       True   \n",
       "37626      True       True     False  False         True       True   \n",
       "37627      True       True     False  False        False      False   \n",
       "\n",
       "       new_cases_smoothed  total_deaths  new_deaths  new_deaths_smoothed  ...  \\\n",
       "0                    True         False       False                 True  ...   \n",
       "1                   False          True        True                False  ...   \n",
       "2                   False         False       False                False  ...   \n",
       "3                   False          True        True                False  ...   \n",
       "4                   False          True        True                False  ...   \n",
       "...                   ...           ...         ...                  ...  ...   \n",
       "37623               False          True        True                False  ...   \n",
       "37624               False          True        True                False  ...   \n",
       "37625               False          True        True                False  ...   \n",
       "37626               False          True        True                False  ...   \n",
       "37627               False         False       False                False  ...   \n",
       "\n",
       "       aged_70_older  gdp_per_capita  extreme_poverty  cardiovasc_death_rate  \\\n",
       "0              False           False             True                   True   \n",
       "1              False           False             True                   True   \n",
       "2              False           False             True                   True   \n",
       "3              False           False             True                   True   \n",
       "4              False           False             True                   True   \n",
       "...              ...             ...              ...                    ...   \n",
       "37623           True            True             True                   True   \n",
       "37624           True            True             True                   True   \n",
       "37625           True            True             True                   True   \n",
       "37626           True            True             True                   True   \n",
       "37627           True            True             True                   True   \n",
       "\n",
       "       diabetes_prevalence  female_smokers  male_smokers  \\\n",
       "0                    False            True          True   \n",
       "1                    False            True          True   \n",
       "2                    False            True          True   \n",
       "3                    False            True          True   \n",
       "4                    False            True          True   \n",
       "...                    ...             ...           ...   \n",
       "37623                 True            True          True   \n",
       "37624                 True            True          True   \n",
       "37625                 True            True          True   \n",
       "37626                 True            True          True   \n",
       "37627                 True            True          True   \n",
       "\n",
       "       handwashing_facilities  hospital_beds_per_thousand  life_expectancy  \n",
       "0                        True                        True            False  \n",
       "1                        True                        True            False  \n",
       "2                        True                        True            False  \n",
       "3                        True                        True            False  \n",
       "4                        True                        True            False  \n",
       "...                       ...                         ...              ...  \n",
       "37623                    True                        True             True  \n",
       "37624                    True                        True             True  \n",
       "37625                    True                        True             True  \n",
       "37626                    True                        True             True  \n",
       "37627                    True                        True             True  \n",
       "\n",
       "[37628 rows x 40 columns]"
      ]
     },
     "execution_count": 3,
     "metadata": {},
     "output_type": "execute_result"
    }
   ],
   "source": [
    "pd.isna(df)"
   ]
  },
  {
   "cell_type": "code",
   "execution_count": 4,
   "metadata": {
    "execution": {
     "iopub.execute_input": "2020-08-18T14:07:49.435483Z",
     "iopub.status.busy": "2020-08-18T14:07:49.435295Z",
     "iopub.status.idle": "2020-08-18T14:07:49.476248Z",
     "shell.execute_reply": "2020-08-18T14:07:49.475563Z",
     "shell.execute_reply.started": "2020-08-18T14:07:49.435463Z"
    }
   },
   "outputs": [
    {
     "data": {
      "text/html": [
       "<div>\n",
       "<style scoped>\n",
       "    .dataframe tbody tr th:only-of-type {\n",
       "        vertical-align: middle;\n",
       "    }\n",
       "\n",
       "    .dataframe tbody tr th {\n",
       "        vertical-align: top;\n",
       "    }\n",
       "\n",
       "    .dataframe thead th {\n",
       "        text-align: right;\n",
       "    }\n",
       "</style>\n",
       "<table border=\"1\" class=\"dataframe\">\n",
       "  <thead>\n",
       "    <tr style=\"text-align: right;\">\n",
       "      <th></th>\n",
       "      <th>iso_code</th>\n",
       "      <th>continent</th>\n",
       "      <th>location</th>\n",
       "      <th>date</th>\n",
       "      <th>total_cases</th>\n",
       "      <th>new_cases</th>\n",
       "      <th>new_cases_smoothed</th>\n",
       "      <th>total_deaths</th>\n",
       "      <th>new_deaths</th>\n",
       "      <th>new_deaths_smoothed</th>\n",
       "      <th>...</th>\n",
       "      <th>aged_70_older</th>\n",
       "      <th>gdp_per_capita</th>\n",
       "      <th>extreme_poverty</th>\n",
       "      <th>cardiovasc_death_rate</th>\n",
       "      <th>diabetes_prevalence</th>\n",
       "      <th>female_smokers</th>\n",
       "      <th>male_smokers</th>\n",
       "      <th>handwashing_facilities</th>\n",
       "      <th>hospital_beds_per_thousand</th>\n",
       "      <th>life_expectancy</th>\n",
       "    </tr>\n",
       "  </thead>\n",
       "  <tbody>\n",
       "    <tr>\n",
       "      <th>16118</th>\n",
       "      <td>IND</td>\n",
       "      <td>Asia</td>\n",
       "      <td>India</td>\n",
       "      <td>2019-12-31</td>\n",
       "      <td>0.0</td>\n",
       "      <td>0.0</td>\n",
       "      <td>NaN</td>\n",
       "      <td>0.0</td>\n",
       "      <td>0.0</td>\n",
       "      <td>NaN</td>\n",
       "      <td>...</td>\n",
       "      <td>3.414</td>\n",
       "      <td>6426.674</td>\n",
       "      <td>21.2</td>\n",
       "      <td>282.28</td>\n",
       "      <td>10.39</td>\n",
       "      <td>1.9</td>\n",
       "      <td>20.6</td>\n",
       "      <td>59.55</td>\n",
       "      <td>0.53</td>\n",
       "      <td>69.66</td>\n",
       "    </tr>\n",
       "    <tr>\n",
       "      <th>16119</th>\n",
       "      <td>IND</td>\n",
       "      <td>Asia</td>\n",
       "      <td>India</td>\n",
       "      <td>2020-01-01</td>\n",
       "      <td>0.0</td>\n",
       "      <td>0.0</td>\n",
       "      <td>NaN</td>\n",
       "      <td>0.0</td>\n",
       "      <td>0.0</td>\n",
       "      <td>NaN</td>\n",
       "      <td>...</td>\n",
       "      <td>3.414</td>\n",
       "      <td>6426.674</td>\n",
       "      <td>21.2</td>\n",
       "      <td>282.28</td>\n",
       "      <td>10.39</td>\n",
       "      <td>1.9</td>\n",
       "      <td>20.6</td>\n",
       "      <td>59.55</td>\n",
       "      <td>0.53</td>\n",
       "      <td>69.66</td>\n",
       "    </tr>\n",
       "    <tr>\n",
       "      <th>16120</th>\n",
       "      <td>IND</td>\n",
       "      <td>Asia</td>\n",
       "      <td>India</td>\n",
       "      <td>2020-01-02</td>\n",
       "      <td>0.0</td>\n",
       "      <td>0.0</td>\n",
       "      <td>NaN</td>\n",
       "      <td>0.0</td>\n",
       "      <td>0.0</td>\n",
       "      <td>NaN</td>\n",
       "      <td>...</td>\n",
       "      <td>3.414</td>\n",
       "      <td>6426.674</td>\n",
       "      <td>21.2</td>\n",
       "      <td>282.28</td>\n",
       "      <td>10.39</td>\n",
       "      <td>1.9</td>\n",
       "      <td>20.6</td>\n",
       "      <td>59.55</td>\n",
       "      <td>0.53</td>\n",
       "      <td>69.66</td>\n",
       "    </tr>\n",
       "    <tr>\n",
       "      <th>16121</th>\n",
       "      <td>IND</td>\n",
       "      <td>Asia</td>\n",
       "      <td>India</td>\n",
       "      <td>2020-01-03</td>\n",
       "      <td>0.0</td>\n",
       "      <td>0.0</td>\n",
       "      <td>NaN</td>\n",
       "      <td>0.0</td>\n",
       "      <td>0.0</td>\n",
       "      <td>NaN</td>\n",
       "      <td>...</td>\n",
       "      <td>3.414</td>\n",
       "      <td>6426.674</td>\n",
       "      <td>21.2</td>\n",
       "      <td>282.28</td>\n",
       "      <td>10.39</td>\n",
       "      <td>1.9</td>\n",
       "      <td>20.6</td>\n",
       "      <td>59.55</td>\n",
       "      <td>0.53</td>\n",
       "      <td>69.66</td>\n",
       "    </tr>\n",
       "    <tr>\n",
       "      <th>16122</th>\n",
       "      <td>IND</td>\n",
       "      <td>Asia</td>\n",
       "      <td>India</td>\n",
       "      <td>2020-01-04</td>\n",
       "      <td>0.0</td>\n",
       "      <td>0.0</td>\n",
       "      <td>NaN</td>\n",
       "      <td>0.0</td>\n",
       "      <td>0.0</td>\n",
       "      <td>NaN</td>\n",
       "      <td>...</td>\n",
       "      <td>3.414</td>\n",
       "      <td>6426.674</td>\n",
       "      <td>21.2</td>\n",
       "      <td>282.28</td>\n",
       "      <td>10.39</td>\n",
       "      <td>1.9</td>\n",
       "      <td>20.6</td>\n",
       "      <td>59.55</td>\n",
       "      <td>0.53</td>\n",
       "      <td>69.66</td>\n",
       "    </tr>\n",
       "  </tbody>\n",
       "</table>\n",
       "<p>5 rows × 40 columns</p>\n",
       "</div>"
      ],
      "text/plain": [
       "      iso_code continent location        date  total_cases  new_cases  \\\n",
       "16118      IND      Asia    India  2019-12-31          0.0        0.0   \n",
       "16119      IND      Asia    India  2020-01-01          0.0        0.0   \n",
       "16120      IND      Asia    India  2020-01-02          0.0        0.0   \n",
       "16121      IND      Asia    India  2020-01-03          0.0        0.0   \n",
       "16122      IND      Asia    India  2020-01-04          0.0        0.0   \n",
       "\n",
       "       new_cases_smoothed  total_deaths  new_deaths  new_deaths_smoothed  ...  \\\n",
       "16118                 NaN           0.0         0.0                  NaN  ...   \n",
       "16119                 NaN           0.0         0.0                  NaN  ...   \n",
       "16120                 NaN           0.0         0.0                  NaN  ...   \n",
       "16121                 NaN           0.0         0.0                  NaN  ...   \n",
       "16122                 NaN           0.0         0.0                  NaN  ...   \n",
       "\n",
       "       aged_70_older  gdp_per_capita  extreme_poverty  cardiovasc_death_rate  \\\n",
       "16118          3.414        6426.674             21.2                 282.28   \n",
       "16119          3.414        6426.674             21.2                 282.28   \n",
       "16120          3.414        6426.674             21.2                 282.28   \n",
       "16121          3.414        6426.674             21.2                 282.28   \n",
       "16122          3.414        6426.674             21.2                 282.28   \n",
       "\n",
       "       diabetes_prevalence  female_smokers  male_smokers  \\\n",
       "16118                10.39             1.9          20.6   \n",
       "16119                10.39             1.9          20.6   \n",
       "16120                10.39             1.9          20.6   \n",
       "16121                10.39             1.9          20.6   \n",
       "16122                10.39             1.9          20.6   \n",
       "\n",
       "       handwashing_facilities  hospital_beds_per_thousand  life_expectancy  \n",
       "16118                   59.55                        0.53            69.66  \n",
       "16119                   59.55                        0.53            69.66  \n",
       "16120                   59.55                        0.53            69.66  \n",
       "16121                   59.55                        0.53            69.66  \n",
       "16122                   59.55                        0.53            69.66  \n",
       "\n",
       "[5 rows x 40 columns]"
      ]
     },
     "execution_count": 4,
     "metadata": {},
     "output_type": "execute_result"
    }
   ],
   "source": [
    "df1 = df[df['location'].str.contains('India')]\n",
    "df1.head()"
   ]
  },
  {
   "cell_type": "code",
   "execution_count": 5,
   "metadata": {
    "execution": {
     "iopub.execute_input": "2020-08-18T14:07:49.477353Z",
     "iopub.status.busy": "2020-08-18T14:07:49.477151Z",
     "iopub.status.idle": "2020-08-18T14:07:51.241116Z",
     "shell.execute_reply": "2020-08-18T14:07:51.240357Z",
     "shell.execute_reply.started": "2020-08-18T14:07:49.477331Z"
    }
   },
   "outputs": [
    {
     "data": {
      "text/plain": [
       "<matplotlib.axes._subplots.AxesSubplot at 0x7fa1a8513ac8>"
      ]
     },
     "execution_count": 5,
     "metadata": {},
     "output_type": "execute_result"
    },
    {
     "data": {
      "image/png": "[encoded data removed]",
      "text/plain": [
       "<Figure size 432x288 with 1 Axes>"
      ]
     },
     "metadata": {
      "needs_background": "light"
     },
     "output_type": "display_data"
    }
   ],
   "source": [
    "sns.scatterplot(data = df1, x = df1['date'] , y = df1['total_cases'])"
   ]
  },
  {
   "cell_type": "code",
   "execution_count": 6,
   "metadata": {
    "execution": {
     "iopub.execute_input": "2020-08-18T14:07:51.242304Z",
     "iopub.status.busy": "2020-08-18T14:07:51.242081Z",
     "iopub.status.idle": "2020-08-18T14:07:53.830250Z",
     "shell.execute_reply": "2020-08-18T14:07:53.829198Z",
     "shell.execute_reply.started": "2020-08-18T14:07:51.242280Z"
    }
   },
   "outputs": [
    {
     "data": {
      "text/plain": [
       "<matplotlib.axes._subplots.AxesSubplot at 0x7fa14e402550>"
      ]
     },
     "execution_count": 6,
     "metadata": {},
     "output_type": "execute_result"
    },
    {
     "data": {
      "image/png": "[encoded data removed]",
      "text/plain": [
       "<Figure size 432x288 with 1 Axes>"
      ]
     },
     "metadata": {
      "needs_background": "light"
     },
     "output_type": "display_data"
    }
   ],
   "source": [
    "sns.barplot(data = df1 , x = df1['date'] , y = df1['new_cases'])"
   ]
  },
  {
   "cell_type": "code",
   "execution_count": 7,
   "metadata": {
    "execution": {
     "iopub.execute_input": "2020-08-18T14:07:53.831600Z",
     "iopub.status.busy": "2020-08-18T14:07:53.831378Z",
     "iopub.status.idle": "2020-08-18T14:07:53.838227Z",
     "shell.execute_reply": "2020-08-18T14:07:53.837405Z",
     "shell.execute_reply.started": "2020-08-18T14:07:53.831576Z"
    }
   },
   "outputs": [
    {
     "data": {
      "text/plain": [
       "['iso_code',\n",
       " 'continent',\n",
       " 'location',\n",
       " 'date',\n",
       " 'total_cases',\n",
       " 'new_cases',\n",
       " 'new_cases_smoothed',\n",
       " 'total_deaths',\n",
       " 'new_deaths',\n",
       " 'new_deaths_smoothed',\n",
       " 'total_cases_per_million',\n",
       " 'new_cases_per_million',\n",
       " 'new_cases_smoothed_per_million',\n",
       " 'total_deaths_per_million',\n",
       " 'new_deaths_per_million',\n",
       " 'new_deaths_smoothed_per_million',\n",
       " 'new_tests',\n",
       " 'total_tests',\n",
       " 'total_tests_per_thousand',\n",
       " 'new_tests_per_thousand',\n",
       " 'new_tests_smoothed',\n",
       " 'new_tests_smoothed_per_thousand',\n",
       " 'tests_per_case',\n",
       " 'positive_rate',\n",
       " 'tests_units',\n",
       " 'stringency_index',\n",
       " 'population',\n",
       " 'population_density',\n",
       " 'median_age',\n",
       " 'aged_65_older',\n",
       " 'aged_70_older',\n",
       " 'gdp_per_capita',\n",
       " 'extreme_poverty',\n",
       " 'cardiovasc_death_rate',\n",
       " 'diabetes_prevalence',\n",
       " 'female_smokers',\n",
       " 'male_smokers',\n",
       " 'handwashing_facilities',\n",
       " 'hospital_beds_per_thousand',\n",
       " 'life_expectancy']"
      ]
     },
     "execution_count": 7,
     "metadata": {},
     "output_type": "execute_result"
    }
   ],
   "source": [
    "list(df.columns.values)"
   ]
  },
  {
   "cell_type": "code",
   "execution_count": 8,
   "metadata": {
    "execution": {
     "iopub.execute_input": "2020-08-18T14:07:53.840651Z",
     "iopub.status.busy": "2020-08-18T14:07:53.840444Z",
     "iopub.status.idle": "2020-08-18T14:07:55.031255Z",
     "shell.execute_reply": "2020-08-18T14:07:55.030303Z",
     "shell.execute_reply.started": "2020-08-18T14:07:53.840627Z"
    }
   },
   "outputs": [
    {
     "data": {
      "text/plain": [
       "<matplotlib.axes._subplots.AxesSubplot at 0x7fa14a8eee48>"
      ]
     },
     "execution_count": 8,
     "metadata": {},
     "output_type": "execute_result"
    },
    {
     "data": {
      "image/png": "[encoded data removed]",
      "text/plain": [
       "<Figure size 432x288 with 1 Axes>"
      ]
     },
     "metadata": {
      "needs_background": "light"
     },
     "output_type": "display_data"
    }
   ],
   "source": [
    "sns.scatterplot(data = df1,x = df1['date'] , y = df1['positive_rate'])"
   ]
  },
  {
   "cell_type": "code",
   "execution_count": 9,
   "metadata": {
    "execution": {
     "iopub.execute_input": "2020-08-18T14:07:55.033097Z",
     "iopub.status.busy": "2020-08-18T14:07:55.032869Z",
     "iopub.status.idle": "2020-08-18T14:07:55.693113Z",
     "shell.execute_reply": "2020-08-18T14:07:55.692290Z",
     "shell.execute_reply.started": "2020-08-18T14:07:55.033068Z"
    }
   },
   "outputs": [
    {
     "data": {
      "text/plain": [
       "<seaborn.axisgrid.JointGrid at 0x7fa14a8cdbe0>"
      ]
     },
     "execution_count": 9,
     "metadata": {},
     "output_type": "execute_result"
    },
    {
     "data": {
      "image/png": "[encoded data removed]",
      "text/plain": [
       "<Figure size 432x432 with 3 Axes>"
      ]
     },
     "metadata": {
      "needs_background": "light"
     },
     "output_type": "display_data"
    }
   ],
   "source": [
    "sns.jointplot(data = df1 , x = df1['new_cases'] , y = df1['new_deaths'])"
   ]
  },
  {
   "cell_type": "code",
   "execution_count": 10,
   "metadata": {
    "execution": {
     "iopub.execute_input": "2020-08-18T14:07:55.694722Z",
     "iopub.status.busy": "2020-08-18T14:07:55.694444Z",
     "iopub.status.idle": "2020-08-18T14:07:55.892677Z",
     "shell.execute_reply": "2020-08-18T14:07:55.891853Z",
     "shell.execute_reply.started": "2020-08-18T14:07:55.694691Z"
    }
   },
   "outputs": [
    {
     "data": {
      "text/html": [
       "<div>\n",
       "<style scoped>\n",
       "    .dataframe tbody tr th:only-of-type {\n",
       "        vertical-align: middle;\n",
       "    }\n",
       "\n",
       "    .dataframe tbody tr th {\n",
       "        vertical-align: top;\n",
       "    }\n",
       "\n",
       "    .dataframe thead th {\n",
       "        text-align: right;\n",
       "    }\n",
       "</style>\n",
       "<table border=\"1\" class=\"dataframe\">\n",
       "  <thead>\n",
       "    <tr style=\"text-align: right;\">\n",
       "      <th></th>\n",
       "      <th>Unnamed: 0</th>\n",
       "      <th>10-Mar</th>\n",
       "      <th>10-Mar.1</th>\n",
       "      <th>10-Mar.2</th>\n",
       "      <th>10-Mar.3</th>\n",
       "      <th>11-Mar</th>\n",
       "      <th>11-Mar.1</th>\n",
       "      <th>11-Mar.2</th>\n",
       "      <th>11-Mar.3</th>\n",
       "      <th>12-Mar</th>\n",
       "      <th>...</th>\n",
       "      <th>14-Aug.2</th>\n",
       "      <th>14-Aug.3</th>\n",
       "      <th>15-Aug</th>\n",
       "      <th>15-Aug.1</th>\n",
       "      <th>15-Aug.2</th>\n",
       "      <th>15-Aug.3</th>\n",
       "      <th>16-Aug</th>\n",
       "      <th>16-Aug.1</th>\n",
       "      <th>16-Aug.2</th>\n",
       "      <th>16-Aug.3</th>\n",
       "    </tr>\n",
       "  </thead>\n",
       "  <tbody>\n",
       "    <tr>\n",
       "      <th>0</th>\n",
       "      <td>NaN</td>\n",
       "      <td>TCIN</td>\n",
       "      <td>TCFN</td>\n",
       "      <td>Cured</td>\n",
       "      <td>Death</td>\n",
       "      <td>TCIN</td>\n",
       "      <td>TCFN</td>\n",
       "      <td>Cured</td>\n",
       "      <td>Death</td>\n",
       "      <td>TCIN</td>\n",
       "      <td>...</td>\n",
       "      <td>Cured</td>\n",
       "      <td>Death</td>\n",
       "      <td>TCIN</td>\n",
       "      <td>TCFN</td>\n",
       "      <td>Cured</td>\n",
       "      <td>Death</td>\n",
       "      <td>TCIN</td>\n",
       "      <td>TCFN</td>\n",
       "      <td>Cured</td>\n",
       "      <td>Death</td>\n",
       "    </tr>\n",
       "    <tr>\n",
       "      <th>1</th>\n",
       "      <td>Andhra Pradesh</td>\n",
       "      <td>0</td>\n",
       "      <td>0</td>\n",
       "      <td>0</td>\n",
       "      <td>0</td>\n",
       "      <td>0</td>\n",
       "      <td>0</td>\n",
       "      <td>0</td>\n",
       "      <td>0</td>\n",
       "      <td>1</td>\n",
       "      <td>...</td>\n",
       "      <td>170984</td>\n",
       "      <td>2378</td>\n",
       "      <td>273085</td>\n",
       "      <td>0</td>\n",
       "      <td>180703</td>\n",
       "      <td>2475</td>\n",
       "      <td>281817</td>\n",
       "      <td>0</td>\n",
       "      <td>191117</td>\n",
       "      <td>2562</td>\n",
       "    </tr>\n",
       "    <tr>\n",
       "      <th>2</th>\n",
       "      <td>Andaman and Nicobar Islands</td>\n",
       "      <td>0</td>\n",
       "      <td>0</td>\n",
       "      <td>0</td>\n",
       "      <td>0</td>\n",
       "      <td>0</td>\n",
       "      <td>0</td>\n",
       "      <td>0</td>\n",
       "      <td>0</td>\n",
       "      <td>0</td>\n",
       "      <td>...</td>\n",
       "      <td>924</td>\n",
       "      <td>22</td>\n",
       "      <td>2186</td>\n",
       "      <td>0</td>\n",
       "      <td>1032</td>\n",
       "      <td>24</td>\n",
       "      <td>2306</td>\n",
       "      <td>0</td>\n",
       "      <td>1128</td>\n",
       "      <td>24</td>\n",
       "    </tr>\n",
       "    <tr>\n",
       "      <th>3</th>\n",
       "      <td>Arunachal Pradesh</td>\n",
       "      <td>0</td>\n",
       "      <td>0</td>\n",
       "      <td>0</td>\n",
       "      <td>0</td>\n",
       "      <td>0</td>\n",
       "      <td>0</td>\n",
       "      <td>0</td>\n",
       "      <td>0</td>\n",
       "      <td>0</td>\n",
       "      <td>...</td>\n",
       "      <td>1718</td>\n",
       "      <td>4</td>\n",
       "      <td>2607</td>\n",
       "      <td>0</td>\n",
       "      <td>1750</td>\n",
       "      <td>5</td>\n",
       "      <td>2658</td>\n",
       "      <td>0</td>\n",
       "      <td>1771</td>\n",
       "      <td>5</td>\n",
       "    </tr>\n",
       "    <tr>\n",
       "      <th>4</th>\n",
       "      <td>Assam</td>\n",
       "      <td>0</td>\n",
       "      <td>0</td>\n",
       "      <td>0</td>\n",
       "      <td>0</td>\n",
       "      <td>0</td>\n",
       "      <td>0</td>\n",
       "      <td>0</td>\n",
       "      <td>0</td>\n",
       "      <td>0</td>\n",
       "      <td>...</td>\n",
       "      <td>49383</td>\n",
       "      <td>169</td>\n",
       "      <td>74501</td>\n",
       "      <td>0</td>\n",
       "      <td>51693</td>\n",
       "      <td>175</td>\n",
       "      <td>75558</td>\n",
       "      <td>0</td>\n",
       "      <td>53286</td>\n",
       "      <td>182</td>\n",
       "    </tr>\n",
       "  </tbody>\n",
       "</table>\n",
       "<p>5 rows × 641 columns</p>\n",
       "</div>"
      ],
      "text/plain": [
       "                    Unnamed: 0 10-Mar 10-Mar.1 10-Mar.2 10-Mar.3 11-Mar  \\\n",
       "0                          NaN   TCIN     TCFN    Cured    Death   TCIN   \n",
       "1               Andhra Pradesh      0        0        0        0      0   \n",
       "2  Andaman and Nicobar Islands      0        0        0        0      0   \n",
       "3            Arunachal Pradesh      0        0        0        0      0   \n",
       "4                        Assam      0        0        0        0      0   \n",
       "\n",
       "  11-Mar.1 11-Mar.2 11-Mar.3 12-Mar  ... 14-Aug.2 14-Aug.3  15-Aug 15-Aug.1  \\\n",
       "0     TCFN    Cured    Death   TCIN  ...    Cured    Death    TCIN     TCFN   \n",
       "1        0        0        0      1  ...   170984     2378  273085        0   \n",
       "2        0        0        0      0  ...      924       22    2186        0   \n",
       "3        0        0        0      0  ...     1718        4    2607        0   \n",
       "4        0        0        0      0  ...    49383      169   74501        0   \n",
       "\n",
       "  15-Aug.2 15-Aug.3  16-Aug 16-Aug.1 16-Aug.2 16-Aug.3  \n",
       "0    Cured    Death    TCIN     TCFN    Cured    Death  \n",
       "1   180703     2475  281817        0   191117     2562  \n",
       "2     1032       24    2306        0     1128       24  \n",
       "3     1750        5    2658        0     1771        5  \n",
       "4    51693      175   75558        0    53286      182  \n",
       "\n",
       "[5 rows x 641 columns]"
      ]
     },
     "execution_count": 10,
     "metadata": {},
     "output_type": "execute_result"
    }
   ],
   "source": [
    "#State Wise Data of India \n",
    "dfs = pd.read_csv('https://cainvas-static.s3.amazonaws.com/media/user_data/Varun101Varun/summarymohfw1update.csv')\n",
    "dfs.head()"
   ]
  },
  {
   "cell_type": "code",
   "execution_count": null,
   "metadata": {},
   "outputs": [],
   "source": []
  },
  {
   "cell_type": "code",
   "execution_count": 11,
   "metadata": {
    "execution": {
     "iopub.execute_input": "2020-08-18T14:07:55.893839Z",
     "iopub.status.busy": "2020-08-18T14:07:55.893636Z",
     "iopub.status.idle": "2020-08-18T14:07:55.939527Z",
     "shell.execute_reply": "2020-08-18T14:07:55.938562Z",
     "shell.execute_reply.started": "2020-08-18T14:07:55.893814Z"
    }
   },
   "outputs": [],
   "source": [
    "from fbprophet import Prophet\n",
    "confirmed = df1.groupby('date').sum()['total_cases'].reset_index()\n",
    "deaths = df1.groupby('date').sum()['total_deaths'].reset_index()\n"
   ]
  },
  {
   "cell_type": "code",
   "execution_count": 12,
   "metadata": {
    "execution": {
     "iopub.execute_input": "2020-08-18T14:07:55.940819Z",
     "iopub.status.busy": "2020-08-18T14:07:55.940619Z",
     "iopub.status.idle": "2020-08-18T14:07:55.945993Z",
     "shell.execute_reply": "2020-08-18T14:07:55.945252Z",
     "shell.execute_reply.started": "2020-08-18T14:07:55.940798Z"
    }
   },
   "outputs": [],
   "source": [
    "confirmed.columns = ['ds','y']\n",
    "#confirmed['ds'] = confirmed['ds'].dt.date\n",
    "confirmed['ds'] = pd.to_datetime(confirmed['ds'])"
   ]
  },
  {
   "cell_type": "code",
   "execution_count": 13,
   "metadata": {
    "execution": {
     "iopub.execute_input": "2020-08-18T14:07:55.947062Z",
     "iopub.status.busy": "2020-08-18T14:07:55.946849Z",
     "iopub.status.idle": "2020-08-18T14:07:55.956240Z",
     "shell.execute_reply": "2020-08-18T14:07:55.955580Z",
     "shell.execute_reply.started": "2020-08-18T14:07:55.947037Z"
    }
   },
   "outputs": [
    {
     "data": {
      "text/html": [
       "<div>\n",
       "<style scoped>\n",
       "    .dataframe tbody tr th:only-of-type {\n",
       "        vertical-align: middle;\n",
       "    }\n",
       "\n",
       "    .dataframe tbody tr th {\n",
       "        vertical-align: top;\n",
       "    }\n",
       "\n",
       "    .dataframe thead th {\n",
       "        text-align: right;\n",
       "    }\n",
       "</style>\n",
       "<table border=\"1\" class=\"dataframe\">\n",
       "  <thead>\n",
       "    <tr style=\"text-align: right;\">\n",
       "      <th></th>\n",
       "      <th>ds</th>\n",
       "      <th>y</th>\n",
       "    </tr>\n",
       "  </thead>\n",
       "  <tbody>\n",
       "    <tr>\n",
       "      <th>226</th>\n",
       "      <td>2020-08-13</td>\n",
       "      <td>2396637.0</td>\n",
       "    </tr>\n",
       "    <tr>\n",
       "      <th>227</th>\n",
       "      <td>2020-08-14</td>\n",
       "      <td>2461190.0</td>\n",
       "    </tr>\n",
       "    <tr>\n",
       "      <th>228</th>\n",
       "      <td>2020-08-15</td>\n",
       "      <td>2526192.0</td>\n",
       "    </tr>\n",
       "    <tr>\n",
       "      <th>229</th>\n",
       "      <td>2020-08-16</td>\n",
       "      <td>2589682.0</td>\n",
       "    </tr>\n",
       "    <tr>\n",
       "      <th>230</th>\n",
       "      <td>2020-08-17</td>\n",
       "      <td>2647663.0</td>\n",
       "    </tr>\n",
       "  </tbody>\n",
       "</table>\n",
       "</div>"
      ],
      "text/plain": [
       "            ds          y\n",
       "226 2020-08-13  2396637.0\n",
       "227 2020-08-14  2461190.0\n",
       "228 2020-08-15  2526192.0\n",
       "229 2020-08-16  2589682.0\n",
       "230 2020-08-17  2647663.0"
      ]
     },
     "execution_count": 13,
     "metadata": {},
     "output_type": "execute_result"
    }
   ],
   "source": [
    "confirmed.tail()"
   ]
  },
  {
   "cell_type": "code",
   "execution_count": 14,
   "metadata": {
    "execution": {
     "iopub.execute_input": "2020-08-18T14:07:55.957362Z",
     "iopub.status.busy": "2020-08-18T14:07:55.957151Z",
     "iopub.status.idle": "2020-08-18T14:07:56.785487Z",
     "shell.execute_reply": "2020-08-18T14:07:56.784714Z",
     "shell.execute_reply.started": "2020-08-18T14:07:55.957338Z"
    }
   },
   "outputs": [
    {
     "name": "stderr",
     "output_type": "stream",
     "text": [
      "INFO:fbprophet:Disabling yearly seasonality. Run prophet with yearly_seasonality=True to override this.\n",
      "INFO:fbprophet:Disabling daily seasonality. Run prophet with daily_seasonality=True to override this.\n"
     ]
    },
    {
     "data": {
      "text/html": [
       "<div>\n",
       "<style scoped>\n",
       "    .dataframe tbody tr th:only-of-type {\n",
       "        vertical-align: middle;\n",
       "    }\n",
       "\n",
       "    .dataframe tbody tr th {\n",
       "        vertical-align: top;\n",
       "    }\n",
       "\n",
       "    .dataframe thead th {\n",
       "        text-align: right;\n",
       "    }\n",
       "</style>\n",
       "<table border=\"1\" class=\"dataframe\">\n",
       "  <thead>\n",
       "    <tr style=\"text-align: right;\">\n",
       "      <th></th>\n",
       "      <th>ds</th>\n",
       "    </tr>\n",
       "  </thead>\n",
       "  <tbody>\n",
       "    <tr>\n",
       "      <th>776</th>\n",
       "      <td>2022-02-14</td>\n",
       "    </tr>\n",
       "    <tr>\n",
       "      <th>777</th>\n",
       "      <td>2022-02-15</td>\n",
       "    </tr>\n",
       "    <tr>\n",
       "      <th>778</th>\n",
       "      <td>2022-02-16</td>\n",
       "    </tr>\n",
       "    <tr>\n",
       "      <th>779</th>\n",
       "      <td>2022-02-17</td>\n",
       "    </tr>\n",
       "    <tr>\n",
       "      <th>780</th>\n",
       "      <td>2022-02-18</td>\n",
       "    </tr>\n",
       "  </tbody>\n",
       "</table>\n",
       "</div>"
      ],
      "text/plain": [
       "            ds\n",
       "776 2022-02-14\n",
       "777 2022-02-15\n",
       "778 2022-02-16\n",
       "779 2022-02-17\n",
       "780 2022-02-18"
      ]
     },
     "execution_count": 14,
     "metadata": {},
     "output_type": "execute_result"
    }
   ],
   "source": [
    "m = Prophet(interval_width=0.95)\n",
    "m.fit(confirmed)\n",
    "future = m.make_future_dataframe(periods=550)\n",
    "future.tail()"
   ]
  },
  {
   "cell_type": "code",
   "execution_count": 15,
   "metadata": {
    "execution": {
     "iopub.execute_input": "2020-08-18T14:07:56.786519Z",
     "iopub.status.busy": "2020-08-18T14:07:56.786338Z",
     "iopub.status.idle": "2020-08-18T14:07:59.446441Z",
     "shell.execute_reply": "2020-08-18T14:07:59.445591Z",
     "shell.execute_reply.started": "2020-08-18T14:07:56.786498Z"
    }
   },
   "outputs": [
    {
     "data": {
      "text/html": [
       "<div>\n",
       "<style scoped>\n",
       "    .dataframe tbody tr th:only-of-type {\n",
       "        vertical-align: middle;\n",
       "    }\n",
       "\n",
       "    .dataframe tbody tr th {\n",
       "        vertical-align: top;\n",
       "    }\n",
       "\n",
       "    .dataframe thead th {\n",
       "        text-align: right;\n",
       "    }\n",
       "</style>\n",
       "<table border=\"1\" class=\"dataframe\">\n",
       "  <thead>\n",
       "    <tr style=\"text-align: right;\">\n",
       "      <th></th>\n",
       "      <th>ds</th>\n",
       "      <th>yhat</th>\n",
       "      <th>yhat_lower</th>\n",
       "      <th>yhat_upper</th>\n",
       "    </tr>\n",
       "  </thead>\n",
       "  <tbody>\n",
       "    <tr>\n",
       "      <th>776</th>\n",
       "      <td>2022-02-14</td>\n",
       "      <td>2.544243e+07</td>\n",
       "      <td>1.432306e+07</td>\n",
       "      <td>3.714006e+07</td>\n",
       "    </tr>\n",
       "    <tr>\n",
       "      <th>777</th>\n",
       "      <td>2022-02-15</td>\n",
       "      <td>2.547821e+07</td>\n",
       "      <td>1.433554e+07</td>\n",
       "      <td>3.725571e+07</td>\n",
       "    </tr>\n",
       "    <tr>\n",
       "      <th>778</th>\n",
       "      <td>2022-02-16</td>\n",
       "      <td>2.552088e+07</td>\n",
       "      <td>1.428740e+07</td>\n",
       "      <td>3.731292e+07</td>\n",
       "    </tr>\n",
       "    <tr>\n",
       "      <th>779</th>\n",
       "      <td>2022-02-17</td>\n",
       "      <td>2.556347e+07</td>\n",
       "      <td>1.431838e+07</td>\n",
       "      <td>3.737851e+07</td>\n",
       "    </tr>\n",
       "    <tr>\n",
       "      <th>780</th>\n",
       "      <td>2022-02-18</td>\n",
       "      <td>2.560669e+07</td>\n",
       "      <td>1.433866e+07</td>\n",
       "      <td>3.751611e+07</td>\n",
       "    </tr>\n",
       "  </tbody>\n",
       "</table>\n",
       "</div>"
      ],
      "text/plain": [
       "            ds          yhat    yhat_lower    yhat_upper\n",
       "776 2022-02-14  2.544243e+07  1.432306e+07  3.714006e+07\n",
       "777 2022-02-15  2.547821e+07  1.433554e+07  3.725571e+07\n",
       "778 2022-02-16  2.552088e+07  1.428740e+07  3.731292e+07\n",
       "779 2022-02-17  2.556347e+07  1.431838e+07  3.737851e+07\n",
       "780 2022-02-18  2.560669e+07  1.433866e+07  3.751611e+07"
      ]
     },
     "execution_count": 15,
     "metadata": {},
     "output_type": "execute_result"
    }
   ],
   "source": [
    "forecast = m.predict(future)\n",
    "forecast[['ds', 'yhat', 'yhat_lower', 'yhat_upper']].tail()"
   ]
  },
  {
   "cell_type": "code",
   "execution_count": 16,
   "metadata": {
    "execution": {
     "iopub.execute_input": "2020-08-18T14:07:59.447908Z",
     "iopub.status.busy": "2020-08-18T14:07:59.447645Z",
     "iopub.status.idle": "2020-08-18T14:07:59.683979Z",
     "shell.execute_reply": "2020-08-18T14:07:59.683168Z",
     "shell.execute_reply.started": "2020-08-18T14:07:59.447877Z"
    }
   },
   "outputs": [
    {
     "data": {
      "image/png": "[encoded data removed]",
      "text/plain": [
       "<Figure size 720x432 with 1 Axes>"
      ]
     },
     "metadata": {},
     "output_type": "display_data"
    }
   ],
   "source": [
    "confirmed_forecast_plot = m.plot(forecast)"
   ]
  },
  {
   "cell_type": "code",
   "execution_count": 17,
   "metadata": {
    "execution": {
     "iopub.execute_input": "2020-08-18T14:07:59.685199Z",
     "iopub.status.busy": "2020-08-18T14:07:59.684991Z",
     "iopub.status.idle": "2020-08-18T14:08:00.082500Z",
     "shell.execute_reply": "2020-08-18T14:08:00.081475Z",
     "shell.execute_reply.started": "2020-08-18T14:07:59.685173Z"
    }
   },
   "outputs": [
    {
     "data": {
      "image/png": "[encoded data removed]",
      "text/plain": [
       "<Figure size 648x432 with 2 Axes>"
      ]
     },
     "metadata": {},
     "output_type": "display_data"
    }
   ],
   "source": [
    "confirmed_forecast_plot =m.plot_components(forecast)"
   ]
  },
  {
   "cell_type": "code",
   "execution_count": 18,
   "metadata": {
    "execution": {
     "iopub.execute_input": "2020-08-18T14:08:00.084196Z",
     "iopub.status.busy": "2020-08-18T14:08:00.083931Z",
     "iopub.status.idle": "2020-08-18T14:08:00.090128Z",
     "shell.execute_reply": "2020-08-18T14:08:00.089076Z",
     "shell.execute_reply.started": "2020-08-18T14:08:00.084169Z"
    }
   },
   "outputs": [],
   "source": [
    "deaths.columns = ['ds','y']\n",
    "deaths['ds'] = pd.to_datetime(deaths['ds'])"
   ]
  },
  {
   "cell_type": "code",
   "execution_count": 19,
   "metadata": {
    "execution": {
     "iopub.execute_input": "2020-08-18T14:08:00.091685Z",
     "iopub.status.busy": "2020-08-18T14:08:00.091462Z",
     "iopub.status.idle": "2020-08-18T14:08:00.248183Z",
     "shell.execute_reply": "2020-08-18T14:08:00.247421Z",
     "shell.execute_reply.started": "2020-08-18T14:08:00.091659Z"
    }
   },
   "outputs": [
    {
     "name": "stderr",
     "output_type": "stream",
     "text": [
      "INFO:fbprophet:Disabling yearly seasonality. Run prophet with yearly_seasonality=True to override this.\n",
      "INFO:fbprophet:Disabling daily seasonality. Run prophet with daily_seasonality=True to override this.\n"
     ]
    },
    {
     "data": {
      "text/html": [
       "<div>\n",
       "<style scoped>\n",
       "    .dataframe tbody tr th:only-of-type {\n",
       "        vertical-align: middle;\n",
       "    }\n",
       "\n",
       "    .dataframe tbody tr th {\n",
       "        vertical-align: top;\n",
       "    }\n",
       "\n",
       "    .dataframe thead th {\n",
       "        text-align: right;\n",
       "    }\n",
       "</style>\n",
       "<table border=\"1\" class=\"dataframe\">\n",
       "  <thead>\n",
       "    <tr style=\"text-align: right;\">\n",
       "      <th></th>\n",
       "      <th>ds</th>\n",
       "    </tr>\n",
       "  </thead>\n",
       "  <tbody>\n",
       "    <tr>\n",
       "      <th>776</th>\n",
       "      <td>2022-02-14</td>\n",
       "    </tr>\n",
       "    <tr>\n",
       "      <th>777</th>\n",
       "      <td>2022-02-15</td>\n",
       "    </tr>\n",
       "    <tr>\n",
       "      <th>778</th>\n",
       "      <td>2022-02-16</td>\n",
       "    </tr>\n",
       "    <tr>\n",
       "      <th>779</th>\n",
       "      <td>2022-02-17</td>\n",
       "    </tr>\n",
       "    <tr>\n",
       "      <th>780</th>\n",
       "      <td>2022-02-18</td>\n",
       "    </tr>\n",
       "  </tbody>\n",
       "</table>\n",
       "</div>"
      ],
      "text/plain": [
       "            ds\n",
       "776 2022-02-14\n",
       "777 2022-02-15\n",
       "778 2022-02-16\n",
       "779 2022-02-17\n",
       "780 2022-02-18"
      ]
     },
     "execution_count": 19,
     "metadata": {},
     "output_type": "execute_result"
    }
   ],
   "source": [
    "m = Prophet(interval_width=0.95)\n",
    "m.fit(deaths)\n",
    "future = m.make_future_dataframe(periods=550)\n",
    "future.tail()"
   ]
  },
  {
   "cell_type": "code",
   "execution_count": 20,
   "metadata": {
    "execution": {
     "iopub.execute_input": "2020-08-18T14:08:00.249600Z",
     "iopub.status.busy": "2020-08-18T14:08:00.249304Z",
     "iopub.status.idle": "2020-08-18T14:08:02.900775Z",
     "shell.execute_reply": "2020-08-18T14:08:02.900041Z",
     "shell.execute_reply.started": "2020-08-18T14:08:00.249562Z"
    }
   },
   "outputs": [
    {
     "data": {
      "text/html": [
       "<div>\n",
       "<style scoped>\n",
       "    .dataframe tbody tr th:only-of-type {\n",
       "        vertical-align: middle;\n",
       "    }\n",
       "\n",
       "    .dataframe tbody tr th {\n",
       "        vertical-align: top;\n",
       "    }\n",
       "\n",
       "    .dataframe thead th {\n",
       "        text-align: right;\n",
       "    }\n",
       "</style>\n",
       "<table border=\"1\" class=\"dataframe\">\n",
       "  <thead>\n",
       "    <tr style=\"text-align: right;\">\n",
       "      <th></th>\n",
       "      <th>ds</th>\n",
       "      <th>yhat</th>\n",
       "      <th>yhat_lower</th>\n",
       "      <th>yhat_upper</th>\n",
       "    </tr>\n",
       "  </thead>\n",
       "  <tbody>\n",
       "    <tr>\n",
       "      <th>776</th>\n",
       "      <td>2022-02-14</td>\n",
       "      <td>423727.248623</td>\n",
       "      <td>243412.454646</td>\n",
       "      <td>601720.125732</td>\n",
       "    </tr>\n",
       "    <tr>\n",
       "      <th>777</th>\n",
       "      <td>2022-02-15</td>\n",
       "      <td>424329.304541</td>\n",
       "      <td>243928.087797</td>\n",
       "      <td>602899.293971</td>\n",
       "    </tr>\n",
       "    <tr>\n",
       "      <th>778</th>\n",
       "      <td>2022-02-16</td>\n",
       "      <td>425068.837186</td>\n",
       "      <td>244702.663190</td>\n",
       "      <td>604449.030217</td>\n",
       "    </tr>\n",
       "    <tr>\n",
       "      <th>779</th>\n",
       "      <td>2022-02-17</td>\n",
       "      <td>425767.806305</td>\n",
       "      <td>245230.636608</td>\n",
       "      <td>605540.621766</td>\n",
       "    </tr>\n",
       "    <tr>\n",
       "      <th>780</th>\n",
       "      <td>2022-02-18</td>\n",
       "      <td>426457.473983</td>\n",
       "      <td>243174.891775</td>\n",
       "      <td>606255.042623</td>\n",
       "    </tr>\n",
       "  </tbody>\n",
       "</table>\n",
       "</div>"
      ],
      "text/plain": [
       "            ds           yhat     yhat_lower     yhat_upper\n",
       "776 2022-02-14  423727.248623  243412.454646  601720.125732\n",
       "777 2022-02-15  424329.304541  243928.087797  602899.293971\n",
       "778 2022-02-16  425068.837186  244702.663190  604449.030217\n",
       "779 2022-02-17  425767.806305  245230.636608  605540.621766\n",
       "780 2022-02-18  426457.473983  243174.891775  606255.042623"
      ]
     },
     "execution_count": 20,
     "metadata": {},
     "output_type": "execute_result"
    }
   ],
   "source": [
    "forecast = m.predict(future)\n",
    "forecast[['ds', 'yhat', 'yhat_lower', 'yhat_upper']].tail()"
   ]
  },
  {
   "cell_type": "code",
   "execution_count": 21,
   "metadata": {
    "execution": {
     "iopub.execute_input": "2020-08-18T14:08:02.902035Z",
     "iopub.status.busy": "2020-08-18T14:08:02.901828Z",
     "iopub.status.idle": "2020-08-18T14:08:03.130838Z",
     "shell.execute_reply": "2020-08-18T14:08:03.129956Z",
     "shell.execute_reply.started": "2020-08-18T14:08:02.902009Z"
    }
   },
   "outputs": [
    {
     "data": {
      "image/png": "[encoded data removed]",
      "text/plain": [
       "<Figure size 720x432 with 1 Axes>"
      ]
     },
     "metadata": {},
     "output_type": "display_data"
    }
   ],
   "source": [
    "deaths_forecast_plot = m.plot(forecast)"
   ]
  },
  {
   "cell_type": "code",
   "execution_count": 22,
   "metadata": {
    "execution": {
     "iopub.execute_input": "2020-08-18T14:08:03.132302Z",
     "iopub.status.busy": "2020-08-18T14:08:03.132038Z",
     "iopub.status.idle": "2020-08-18T14:08:03.493552Z",
     "shell.execute_reply": "2020-08-18T14:08:03.492776Z",
     "shell.execute_reply.started": "2020-08-18T14:08:03.132272Z"
    }
   },
   "outputs": [
    {
     "data": {
      "image/png": "[encoded data removed]",
      "text/plain": [
       "<Figure size 648x432 with 2 Axes>"
      ]
     },
     "metadata": {},
     "output_type": "display_data"
    }
   ],
   "source": [
    "deaths_forecast_plot = m.plot_components(forecast)"
   ]
  },
  {
   "cell_type": "code",
   "execution_count": null,
   "metadata": {},
   "outputs": [],
   "source": []
  },
  {
   "cell_type": "code",
   "execution_count": 23,
   "metadata": {
    "execution": {
     "iopub.execute_input": "2020-08-18T14:08:03.498283Z",
     "iopub.status.busy": "2020-08-18T14:08:03.497945Z",
     "iopub.status.idle": "2020-08-18T14:08:03.503454Z",
     "shell.execute_reply": "2020-08-18T14:08:03.502573Z",
     "shell.execute_reply.started": "2020-08-18T14:08:03.498247Z"
    }
   },
   "outputs": [
    {
     "name": "stdout",
     "output_type": "stream",
     "text": [
      "2020-03-19\n"
     ]
    }
   ],
   "source": [
    "print(df1['date'].iloc[79])"
   ]
  },
  {
   "cell_type": "code",
   "execution_count": 24,
   "metadata": {
    "execution": {
     "iopub.execute_input": "2020-08-18T14:08:03.505147Z",
     "iopub.status.busy": "2020-08-18T14:08:03.504965Z",
     "iopub.status.idle": "2020-08-18T14:08:03.508881Z",
     "shell.execute_reply": "2020-08-18T14:08:03.507963Z",
     "shell.execute_reply.started": "2020-08-18T14:08:03.505126Z"
    }
   },
   "outputs": [],
   "source": [
    "pop_size = 1.3e9"
   ]
  },
  {
   "cell_type": "code",
   "execution_count": 25,
   "metadata": {
    "execution": {
     "iopub.execute_input": "2020-08-18T14:08:03.510415Z",
     "iopub.status.busy": "2020-08-18T14:08:03.510188Z",
     "iopub.status.idle": "2020-08-18T14:08:03.513849Z",
     "shell.execute_reply": "2020-08-18T14:08:03.513264Z",
     "shell.execute_reply.started": "2020-08-18T14:08:03.510387Z"
    }
   },
   "outputs": [],
   "source": [
    "γ = 1 / 18\n",
    "σ = 1 / 5.2"
   ]
  },
  {
   "cell_type": "code",
   "execution_count": 26,
   "metadata": {
    "execution": {
     "iopub.execute_input": "2020-08-18T14:08:03.514828Z",
     "iopub.status.busy": "2020-08-18T14:08:03.514648Z",
     "iopub.status.idle": "2020-08-18T14:08:03.522107Z",
     "shell.execute_reply": "2020-08-18T14:08:03.521189Z",
     "shell.execute_reply.started": "2020-08-18T14:08:03.514805Z"
    }
   },
   "outputs": [],
   "source": [
    "def F(x, t, R0=1.6):\n",
    "    \"\"\"\n",
    "    Time derivative of the state vector.\n",
    "\n",
    "        * x is the state vector (array_like)\n",
    "        * t is time (scalar)\n",
    "        * R0 is the effective transmission rate, defaulting to a constant\n",
    "\n",
    "    \"\"\"\n",
    "    s, e, i = x\n",
    "\n",
    "    # New exposure of susceptibles\n",
    "    β = R0(t) * γ if callable(R0) else R0 * γ\n",
    "    ne = β * s * i\n",
    "\n",
    "    # Time derivatives\n",
    "    ds = - ne\n",
    "    de = ne - σ * e\n",
    "    di = σ * e - γ * i\n",
    "\n",
    "    return ds, de, di"
   ]
  },
  {
   "cell_type": "code",
   "execution_count": 27,
   "metadata": {
    "execution": {
     "iopub.execute_input": "2020-08-18T14:08:03.523435Z",
     "iopub.status.busy": "2020-08-18T14:08:03.523224Z",
     "iopub.status.idle": "2020-08-18T14:08:03.527451Z",
     "shell.execute_reply": "2020-08-18T14:08:03.526627Z",
     "shell.execute_reply.started": "2020-08-18T14:08:03.523411Z"
    }
   },
   "outputs": [],
   "source": [
    "#R0 can be a constant or a given function of time\n",
    "#inital conditions of s , e , i\n",
    "i_0 = 1e-7\n",
    "e_0 = 4 * i_0\n",
    "s_0 = 1 - i_0 - e_0"
   ]
  },
  {
   "cell_type": "code",
   "execution_count": 28,
   "metadata": {
    "execution": {
     "iopub.execute_input": "2020-08-18T14:08:03.528386Z",
     "iopub.status.busy": "2020-08-18T14:08:03.528217Z",
     "iopub.status.idle": "2020-08-18T14:08:03.532242Z",
     "shell.execute_reply": "2020-08-18T14:08:03.531488Z",
     "shell.execute_reply.started": "2020-08-18T14:08:03.528367Z"
    }
   },
   "outputs": [],
   "source": [
    "x_0 = s_0, e_0, i_0"
   ]
  },
  {
   "cell_type": "code",
   "execution_count": 29,
   "metadata": {
    "execution": {
     "iopub.execute_input": "2020-08-18T14:08:03.533446Z",
     "iopub.status.busy": "2020-08-18T14:08:03.533279Z",
     "iopub.status.idle": "2020-08-18T14:08:03.538367Z",
     "shell.execute_reply": "2020-08-18T14:08:03.537721Z",
     "shell.execute_reply.started": "2020-08-18T14:08:03.533426Z"
    }
   },
   "outputs": [],
   "source": [
    "def solve_path(R0, t_vec, x_init=x_0):\n",
    "    \"\"\"\n",
    "    Solve for i(t) and c(t) via numerical integration,\n",
    "    given the time path for R0.\n",
    "\n",
    "    \"\"\"\n",
    "    G = lambda x, t: F(x, t, R0)\n",
    "    s_path, e_path, i_path = odeint(G, x_init, t_vec).transpose()\n",
    "\n",
    "    c_path = 1 - s_path - e_path       # cumulative cases\n",
    "    return i_path, c_path"
   ]
  },
  {
   "cell_type": "code",
   "execution_count": 30,
   "metadata": {
    "execution": {
     "iopub.execute_input": "2020-08-18T14:08:03.539404Z",
     "iopub.status.busy": "2020-08-18T14:08:03.539185Z",
     "iopub.status.idle": "2020-08-18T14:08:03.543644Z",
     "shell.execute_reply": "2020-08-18T14:08:03.542906Z",
     "shell.execute_reply.started": "2020-08-18T14:08:03.539379Z"
    }
   },
   "outputs": [],
   "source": [
    "import numpy as np\n",
    "t_length = 550\n",
    "grid_size = 1000\n",
    "t_vec = np.linspace(0, t_length, grid_size)"
   ]
  },
  {
   "cell_type": "code",
   "execution_count": 31,
   "metadata": {
    "execution": {
     "iopub.execute_input": "2020-08-18T14:08:03.544826Z",
     "iopub.status.busy": "2020-08-18T14:08:03.544621Z",
     "iopub.status.idle": "2020-08-18T14:08:03.566965Z",
     "shell.execute_reply": "2020-08-18T14:08:03.566119Z",
     "shell.execute_reply.started": "2020-08-18T14:08:03.544802Z"
    }
   },
   "outputs": [],
   "source": [
    "R0_vals = np.linspace(1.6, 3.0, 6)\n",
    "labels = [f'$R0 = {r:.2f}$' for r in R0_vals]\n",
    "i_paths, c_paths = [], []\n",
    "\n",
    "for r in R0_vals:\n",
    "    i_path, c_path = solve_path(r, t_vec)\n",
    "    i_paths.append(i_path)\n",
    "    c_paths.append(c_path)"
   ]
  },
  {
   "cell_type": "code",
   "execution_count": 32,
   "metadata": {
    "execution": {
     "iopub.execute_input": "2020-08-18T14:08:03.568121Z",
     "iopub.status.busy": "2020-08-18T14:08:03.567913Z",
     "iopub.status.idle": "2020-08-18T14:08:03.573688Z",
     "shell.execute_reply": "2020-08-18T14:08:03.572854Z",
     "shell.execute_reply.started": "2020-08-18T14:08:03.568097Z"
    }
   },
   "outputs": [],
   "source": [
    "def plot_paths(paths, labels, times=t_vec):\n",
    "\n",
    "    fig, ax = plt.subplots()\n",
    "\n",
    "    for path, label in zip(paths, labels):\n",
    "        ax.plot(times, path, label=label)\n",
    "\n",
    "    ax.legend(loc='upper left')\n",
    "\n",
    "    plt.show()"
   ]
  },
  {
   "cell_type": "code",
   "execution_count": 33,
   "metadata": {
    "execution": {
     "iopub.execute_input": "2020-08-18T14:08:03.574892Z",
     "iopub.status.busy": "2020-08-18T14:08:03.574678Z",
     "iopub.status.idle": "2020-08-18T14:08:04.028740Z",
     "shell.execute_reply": "2020-08-18T14:08:04.028061Z",
     "shell.execute_reply.started": "2020-08-18T14:08:03.574867Z"
    }
   },
   "outputs": [
    {
     "data": {
      "image/png": "[encoded data removed]",
      "text/plain": [
       "<Figure size 432x288 with 1 Axes>"
      ]
     },
     "metadata": {
      "needs_background": "light"
     },
     "output_type": "display_data"
    }
   ],
   "source": [
    "plot_paths(i_paths, labels)"
   ]
  },
  {
   "cell_type": "code",
   "execution_count": 34,
   "metadata": {
    "execution": {
     "iopub.execute_input": "2020-08-18T14:08:04.030242Z",
     "iopub.status.busy": "2020-08-18T14:08:04.029941Z",
     "iopub.status.idle": "2020-08-18T14:08:04.250994Z",
     "shell.execute_reply": "2020-08-18T14:08:04.250091Z",
     "shell.execute_reply.started": "2020-08-18T14:08:04.030205Z"
    }
   },
   "outputs": [
    {
     "data": {
      "image/png": "[encoded data removed]",
      "text/plain": [
       "<Figure size 432x288 with 1 Axes>"
      ]
     },
     "metadata": {
      "needs_background": "light"
     },
     "output_type": "display_data"
    }
   ],
   "source": [
    "plot_paths(c_paths, labels)"
   ]
  },
  {
   "cell_type": "code",
   "execution_count": 35,
   "metadata": {
    "execution": {
     "iopub.execute_input": "2020-08-18T14:08:04.252375Z",
     "iopub.status.busy": "2020-08-18T14:08:04.252122Z",
     "iopub.status.idle": "2020-08-18T14:08:04.270478Z",
     "shell.execute_reply": "2020-08-18T14:08:04.269564Z",
     "shell.execute_reply.started": "2020-08-18T14:08:04.252345Z"
    }
   },
   "outputs": [],
   "source": [
    "from math import exp\n",
    "def R0_mitigating(t, r0=3, η=1, r_bar=1.6):\n",
    "    R0 = r0 * exp(- η * t) + (1 - exp(- η * t)) * r_bar\n",
    "    return R0\n",
    "\n",
    "η_vals = 1/5, 1/10, 1/20, 1/50, 1/100\n",
    "labels = [fr'$\\eta = {η:.2f}$' for η in η_vals]\n",
    "\n",
    "i_paths, c_paths = [], []\n",
    "\n",
    "for η in η_vals:\n",
    "    R0 = lambda t: R0_mitigating(t, η=η)\n",
    "    i_path, c_path = solve_path(R0, t_vec)\n",
    "    i_paths.append(i_path)\n",
    "    c_paths.append(c_path)"
   ]
  },
  {
   "cell_type": "code",
   "execution_count": 36,
   "metadata": {
    "execution": {
     "iopub.execute_input": "2020-08-18T14:08:04.271884Z",
     "iopub.status.busy": "2020-08-18T14:08:04.271579Z",
     "iopub.status.idle": "2020-08-18T14:08:04.489984Z",
     "shell.execute_reply": "2020-08-18T14:08:04.489043Z",
     "shell.execute_reply.started": "2020-08-18T14:08:04.271859Z"
    }
   },
   "outputs": [
    {
     "data": {
      "image/png": "[encoded data removed]",
      "text/plain": [
       "<Figure size 432x288 with 1 Axes>"
      ]
     },
     "metadata": {
      "needs_background": "light"
     },
     "output_type": "display_data"
    }
   ],
   "source": [
    "plot_paths(i_paths, labels)"
   ]
  },
  {
   "cell_type": "code",
   "execution_count": 37,
   "metadata": {
    "execution": {
     "iopub.execute_input": "2020-08-18T14:08:04.491736Z",
     "iopub.status.busy": "2020-08-18T14:08:04.491441Z",
     "iopub.status.idle": "2020-08-18T14:08:04.700862Z",
     "shell.execute_reply": "2020-08-18T14:08:04.700120Z",
     "shell.execute_reply.started": "2020-08-18T14:08:04.491704Z"
    }
   },
   "outputs": [
    {
     "data": {
      "image/png": "[encoded data removed]",
      "text/plain": [
       "<Figure size 432x288 with 1 Axes>"
      ]
     },
     "metadata": {
      "needs_background": "light"
     },
     "output_type": "display_data"
    }
   ],
   "source": [
    "plot_paths(c_paths, labels)"
   ]
  },
  {
   "cell_type": "code",
   "execution_count": 38,
   "metadata": {
    "execution": {
     "iopub.execute_input": "2020-08-18T14:08:04.702039Z",
     "iopub.status.busy": "2020-08-18T14:08:04.701821Z",
     "iopub.status.idle": "2020-08-18T14:08:04.706944Z",
     "shell.execute_reply": "2020-08-18T14:08:04.706144Z",
     "shell.execute_reply.started": "2020-08-18T14:08:04.702014Z"
    }
   },
   "outputs": [],
   "source": [
    "# initial conditions\n",
    "i_0 = 25_000 / pop_size\n",
    "e_0 = 75_000 / pop_size\n",
    "s_0 = 1 - i_0 - e_0\n",
    "x_0 = s_0, e_0, i_0"
   ]
  },
  {
   "cell_type": "code",
   "execution_count": 39,
   "metadata": {
    "execution": {
     "iopub.execute_input": "2020-08-18T14:08:04.708079Z",
     "iopub.status.busy": "2020-08-18T14:08:04.707876Z",
     "iopub.status.idle": "2020-08-18T14:08:04.720095Z",
     "shell.execute_reply": "2020-08-18T14:08:04.719333Z",
     "shell.execute_reply.started": "2020-08-18T14:08:04.708054Z"
    }
   },
   "outputs": [],
   "source": [
    "R0_paths = (lambda t: 0.5 if t < 30 else 2,\n",
    "            lambda t: 0.5 if t < 120 else 2)\n",
    "\n",
    "labels = [f'scenario {i}' for i in (1, 2)]\n",
    "\n",
    "i_paths, c_paths = [], []\n",
    "\n",
    "for R0 in R0_paths:\n",
    "    i_path, c_path = solve_path(R0, t_vec, x_init=x_0)\n",
    "    i_paths.append(i_path)\n",
    "    c_paths.append(c_path)"
   ]
  },
  {
   "cell_type": "code",
   "execution_count": 40,
   "metadata": {
    "execution": {
     "iopub.execute_input": "2020-08-18T14:08:04.721217Z",
     "iopub.status.busy": "2020-08-18T14:08:04.720973Z",
     "iopub.status.idle": "2020-08-18T14:08:04.878467Z",
     "shell.execute_reply": "2020-08-18T14:08:04.877759Z",
     "shell.execute_reply.started": "2020-08-18T14:08:04.721185Z"
    }
   },
   "outputs": [
    {
     "data": {
      "image/png": "[encoded data removed]",
      "text/plain": [
       "<Figure size 432x288 with 1 Axes>"
      ]
     },
     "metadata": {
      "needs_background": "light"
     },
     "output_type": "display_data"
    }
   ],
   "source": [
    "plot_paths(i_paths, labels)"
   ]
  },
  {
   "cell_type": "code",
   "execution_count": 41,
   "metadata": {
    "execution": {
     "iopub.execute_input": "2020-08-18T14:08:04.880107Z",
     "iopub.status.busy": "2020-08-18T14:08:04.879660Z",
     "iopub.status.idle": "2020-08-18T14:08:04.883924Z",
     "shell.execute_reply": "2020-08-18T14:08:04.883045Z",
     "shell.execute_reply.started": "2020-08-18T14:08:04.880070Z"
    }
   },
   "outputs": [],
   "source": [
    "ν = 0.01"
   ]
  },
  {
   "cell_type": "code",
   "execution_count": 42,
   "metadata": {
    "execution": {
     "iopub.execute_input": "2020-08-18T14:08:04.885273Z",
     "iopub.status.busy": "2020-08-18T14:08:04.885026Z",
     "iopub.status.idle": "2020-08-18T14:08:05.033925Z",
     "shell.execute_reply": "2020-08-18T14:08:05.032867Z",
     "shell.execute_reply.started": "2020-08-18T14:08:04.885243Z"
    }
   },
   "outputs": [
    {
     "data": {
      "image/png": "[encoded data removed]",
      "text/plain": [
       "<Figure size 432x288 with 1 Axes>"
      ]
     },
     "metadata": {
      "needs_background": "light"
     },
     "output_type": "display_data"
    }
   ],
   "source": [
    "paths = [path * ν * pop_size for path in c_paths]\n",
    "plot_paths(paths, labels)\n"
   ]
  },
  {
   "cell_type": "code",
   "execution_count": 43,
   "metadata": {
    "execution": {
     "iopub.execute_input": "2020-08-18T14:08:05.035166Z",
     "iopub.status.busy": "2020-08-18T14:08:05.034967Z",
     "iopub.status.idle": "2020-08-18T14:08:05.184688Z",
     "shell.execute_reply": "2020-08-18T14:08:05.183971Z",
     "shell.execute_reply.started": "2020-08-18T14:08:05.035145Z"
    }
   },
   "outputs": [
    {
     "data": {
      "image/png": "[encoded data removed]",
      "text/plain": [
       "<Figure size 432x288 with 1 Axes>"
      ]
     },
     "metadata": {
      "needs_background": "light"
     },
     "output_type": "display_data"
    }
   ],
   "source": [
    "paths = [path * ν * γ * pop_size for path in i_paths]\n",
    "plot_paths(paths, labels)"
   ]
  },
  {
   "cell_type": "code",
   "execution_count": null,
   "metadata": {},
   "outputs": [],
   "source": []
  }
 ],
 "metadata": {
  "kernelspec": {
   "display_name": "Python 3",
   "language": "python",
   "name": "python3"
  },
  "language_info": {
   "codemirror_mode": {
    "name": "ipython",
    "version": 3
   },
   "file_extension": ".py",
   "mimetype": "text/x-python",
   "name": "python",
   "nbconvert_exporter": "python",
   "pygments_lexer": "ipython3",
   "version": "3.7.3"
  }
 },
 "nbformat": 4,
 "nbformat_minor": 4
}
